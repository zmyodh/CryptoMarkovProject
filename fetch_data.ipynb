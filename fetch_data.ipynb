import requests
import json

url = "https://api.coingecko.com/api/v3/simple/price?ids=bitcoin&vs_currencies=usd"

btc_response = requests.get(url)

if btc_response.status_code == 200:
    data = btc_response.json()
    print(data)
else:
    print("Error: Could not retrieve data.")
    
pretty_json = json.dumps(data, indent=2)
print(pretty_json)